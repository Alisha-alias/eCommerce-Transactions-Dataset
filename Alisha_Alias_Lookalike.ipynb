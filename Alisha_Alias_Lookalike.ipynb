{
 "cells": [
  {
   "cell_type": "code",
   "execution_count": 1,
   "id": "88865436",
   "metadata": {},
   "outputs": [],
   "source": [
    "import pandas as pd\n",
    "from sklearn.preprocessing import StandardScaler\n",
    "from sklearn.metrics.pairwise import cosine_similarity\n",
    "\n",
    "# Load data\n",
    "customers = pd.read_csv(\"Customers.csv\")\n",
    "products = pd.read_csv(\"Products.csv\")\n",
    "transactions = pd.read_csv(\"Transactions.csv\")\n",
    "\n",
    "# Convert SignupDate & TransactionDate to datetime\n",
    "customers['SignupDate'] = pd.to_datetime(customers['SignupDate'])\n",
    "transactions['TransactionDate'] = pd.to_datetime(transactions['TransactionDate'])\n",
    "\n",
    "# Aggregate transaction features\n",
    "customer_spending = transactions.groupby(\"CustomerID\").agg({\n",
    "    \"TotalValue\": \"sum\",\n",
    "    \"TransactionID\": \"count\",\n",
    "    \"TransactionDate\": \"max\"\n",
    "}).reset_index()\n",
    "customer_spending.rename(columns={\"TransactionID\": \"TotalTransactions\"}, inplace=True)\n",
    "\n",
    "# Merge with customer data\n",
    "customer_profiles = customers.merge(customer_spending, on=\"CustomerID\", how=\"left\").fillna(0)\n",
    "\n",
    "# Encode categorical features\n",
    "customer_profiles = pd.get_dummies(customer_profiles, columns=[\"Region\"], drop_first=True)\n",
    "\n",
    "# Normalize numeric features\n",
    "scaler = StandardScaler()\n",
    "numeric_features = [\"TotalValue\", \"TotalTransactions\"]\n",
    "customer_profiles[numeric_features] = scaler.fit_transform(customer_profiles[numeric_features])\n",
    "\n",
    "# Compute similarity matrix\n",
    "similarity_matrix = cosine_similarity(customer_profiles[numeric_features])\n",
    "customer_ids = customer_profiles[\"CustomerID\"].tolist()\n",
    "\n",
    "# Generate Lookalike.csv\n",
    "top_lookalikes = {}\n",
    "for i, cust_id in enumerate(customer_ids[:20]):  # First 20 customers\n",
    "    sim_scores = list(enumerate(similarity_matrix[i]))\n",
    "    sim_scores = sorted(sim_scores, key=lambda x: x[1], reverse=True)[1:4]  # Top 3 similar customers\n",
    "    top_lookalikes[cust_id] = [(customer_ids[idx], round(score, 4)) for idx, score in sim_scores]\n",
    "\n",
    "# Convert dictionary to DataFrame\n",
    "lookalike_data = []\n",
    "for cust_id, lookalikes in top_lookalikes.items():\n",
    "    row = [cust_id]\n",
    "    for lookalike in lookalikes:\n",
    "        row.extend(lookalike)\n",
    "    lookalike_data.append(row)\n",
    "\n",
    "# Create DataFrame and save to CSV\n",
    "columns = [\"CustomerID\", \"Lookalike1\", \"Score1\", \"Lookalike2\", \"Score2\", \"Lookalike3\", \"Score3\"]\n",
    "lookalike_df = pd.DataFrame(lookalike_data, columns=columns)\n",
    "lookalike_df.to_csv(\"Lookalike.csv\", index=False)"
   ]
  },
  {
   "cell_type": "code",
   "execution_count": null,
   "id": "07f6429e",
   "metadata": {},
   "outputs": [],
   "source": []
  }
 ],
 "metadata": {
  "kernelspec": {
   "display_name": "Python 3 (ipykernel)",
   "language": "python",
   "name": "python3"
  },
  "language_info": {
   "codemirror_mode": {
    "name": "ipython",
    "version": 3
   },
   "file_extension": ".py",
   "mimetype": "text/x-python",
   "name": "python",
   "nbconvert_exporter": "python",
   "pygments_lexer": "ipython3",
   "version": "3.9.13"
  }
 },
 "nbformat": 4,
 "nbformat_minor": 5
}
